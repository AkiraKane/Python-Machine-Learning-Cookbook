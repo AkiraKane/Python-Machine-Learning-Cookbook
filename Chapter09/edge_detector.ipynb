{
 "metadata": {},
 "nbformat": 3,
 "nbformat_minor": 0,
 "worksheets": [
  {
   "cells": [
    {
     "cell_type": "code",
     "collapsed": false,
     "input": [
      "import sys\n",
      "\n",
      "import cv2\n",
      "import numpy as np\n",
      "\n",
      "# Load the input image -- 'chair.jpg'\n",
      "# Convert it to grayscale \n",
      "input_file = sys.argv[1]\n",
      "img = cv2.imread(input_file, cv2.IMREAD_GRAYSCALE)\n",
      "h, w = img.shape\n",
      "\n",
      "sobel_horizontal = cv2.Sobel(img, cv2.CV_64F, 1, 0, ksize=5)\n",
      "sobel_vertical = cv2.Sobel(img, cv2.CV_64F, 0, 1, ksize=5)\n",
      "laplacian = cv2.Laplacian(img, cv2.CV_64F)\n",
      "canny = cv2.Canny(img, 50, 240)\n",
      "\n",
      "cv2.imshow('Original', img)\n",
      "cv2.imshow('Sobel horizontal', sobel_horizontal)\n",
      "cv2.imshow('Sobel vertical', sobel_vertical)\n",
      "cv2.imshow('Laplacian', laplacian)\n",
      "cv2.imshow('Canny', canny)\n",
      "\n",
      "cv2.waitKey()"
     ],
     "language": "python",
     "metadata": {},
     "outputs": []
    }
   ],
   "metadata": {}
  }
 ]
}
