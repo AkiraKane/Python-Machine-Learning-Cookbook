{
 "metadata": {},
 "nbformat": 3,
 "nbformat_minor": 0,
 "worksheets": [
  {
   "cells": [
    {
     "cell_type": "code",
     "collapsed": false,
     "input": [
      "import argparse \n",
      "import pickle as pickle \n",
      "\n",
      "import cv2\n",
      "import numpy as np\n",
      "\n",
      "import build_features as bf\n",
      "from trainer import ERFTrainer\n",
      "\n",
      "def build_arg_parser():\n",
      "    parser = argparse.ArgumentParser(description='Extracts features \\\n",
      "            from each line and classifies the data')\n",
      "    parser.add_argument(\"--input-image\", dest=\"input_image\", required=True,\n",
      "            help=\"Input image to be classified\")\n",
      "    parser.add_argument(\"--model-file\", dest=\"model_file\", required=True,\n",
      "            help=\"Input file containing the trained model\")\n",
      "    parser.add_argument(\"--codebook-file\", dest=\"codebook_file\", \n",
      "            required=True, help=\"Input file containing the codebook\")\n",
      "    return parser\n",
      "\n",
      "class ImageTagExtractor(object):\n",
      "    def __init__(self, model_file, codebook_file):\n",
      "        with open(model_file, 'r') as f:\n",
      "            self.erf = pickle.load(f)\n",
      "\n",
      "        with open(codebook_file, 'r') as f:\n",
      "            self.kmeans, self.centroids = pickle.load(f)\n",
      "\n",
      "    def predict(self, img, scaling_size):\n",
      "        img = bf.resize_image(img, scaling_size)\n",
      "        feature_vector = bf.BagOfWords().construct_feature(\n",
      "                img, self.kmeans, self.centroids)\n",
      "        image_tag = self.erf.classify(feature_vector)[0]\n",
      "        return image_tag\n",
      "\n",
      "if __name__=='__main__':\n",
      "    args = build_arg_parser().parse_args()\n",
      "    model_file = args.model_file\n",
      "    codebook_file = args.codebook_file\n",
      "    input_image = cv2.imread(args.input_image)\n",
      "\n",
      "    scaling_size = 200\n",
      "\n",
      "    print(\"\\nOutput:\", ImageTagExtractor(model_file, \n",
      "            codebook_file).predict(input_image, scaling_size))"
     ],
     "language": "python",
     "metadata": {},
     "outputs": []
    }
   ],
   "metadata": {}
  }
 ]
}
