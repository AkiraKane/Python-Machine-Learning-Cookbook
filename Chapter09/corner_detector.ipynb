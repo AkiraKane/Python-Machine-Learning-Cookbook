{
 "metadata": {},
 "nbformat": 3,
 "nbformat_minor": 0,
 "worksheets": [
  {
   "cells": [
    {
     "cell_type": "code",
     "collapsed": false,
     "input": [
      "import sys\n",
      "\n",
      "import cv2\n",
      "import numpy as np\n",
      "\n",
      "# Load input image -- 'box.png'\n",
      "input_file = sys.argv[1]\n",
      "img = cv2.imread(input_file)\n",
      "cv2.imshow('Input image', img)\n",
      "\n",
      "img_gray = cv2.cvtColor(img, cv2.COLOR_BGR2GRAY)\n",
      "img_gray = np.float32(img_gray)\n",
      "\n",
      "# Harris corner detector \n",
      "img_harris = cv2.cornerHarris(img_gray, 7, 5, 0.04)\n",
      "\n",
      "# Resultant image is dilated to mark the corners\n",
      "img_harris = cv2.dilate(img_harris, None)\n",
      "\n",
      "# Threshold the image \n",
      "img[img_harris > 0.01 * img_harris.max()] = [0, 0, 0]\n",
      "\n",
      "cv2.imshow('Harris Corners', img)\n",
      "cv2.waitKey()"
     ],
     "language": "python",
     "metadata": {},
     "outputs": []
    }
   ],
   "metadata": {}
  }
 ]
}
