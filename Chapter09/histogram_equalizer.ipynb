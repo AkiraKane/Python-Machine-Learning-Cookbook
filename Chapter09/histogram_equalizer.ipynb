{
 "metadata": {},
 "nbformat": 3,
 "nbformat_minor": 0,
 "worksheets": [
  {
   "cells": [
    {
     "cell_type": "code",
     "collapsed": false,
     "input": [
      "import sys\n",
      "\n",
      "import cv2\n",
      "import numpy as np\n",
      "\n",
      "# Load input image -- 'sunrise.jpg'\n",
      "input_file = sys.argv[1]\n",
      "img = cv2.imread(input_file)\n",
      "\n",
      "# Convert it to grayscale\n",
      "img_gray = cv2.cvtColor(img, cv2.COLOR_BGR2GRAY)\n",
      "cv2.imshow('Input grayscale image', img_gray)\n",
      "\n",
      "# Equalize the histogram\n",
      "img_gray_histeq = cv2.equalizeHist(img_gray)\n",
      "cv2.imshow('Histogram equalized - grayscale', img_gray_histeq)\n",
      "\n",
      "# Histogram equalization of color images\n",
      "img_yuv = cv2.cvtColor(img, cv2.COLOR_BGR2YUV)\n",
      "img_yuv[:,:,0] = cv2.equalizeHist(img_yuv[:,:,0])\n",
      "\n",
      "img_histeq = cv2.cvtColor(img_yuv, cv2.COLOR_YUV2BGR)\n",
      "\n",
      "cv2.imshow('Input color image', img)\n",
      "cv2.imshow('Histogram equalized - color', img_histeq)\n",
      "\n",
      "cv2.waitKey()"
     ],
     "language": "python",
     "metadata": {},
     "outputs": []
    }
   ],
   "metadata": {}
  }
 ]
}
