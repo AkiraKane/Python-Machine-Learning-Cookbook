{
 "metadata": {},
 "nbformat": 3,
 "nbformat_minor": 0,
 "worksheets": [
  {
   "cells": [
    {
     "cell_type": "code",
     "collapsed": false,
     "input": [
      "import sys\n",
      "\n",
      "import cv2\n",
      "import numpy as np\n",
      "\n",
      "class StarFeatureDetector(object):\n",
      "    def __init__(self):\n",
      "        self.detector = cv2.xfeatures2d.StarDetector_create()\n",
      "\n",
      "    def detect(self, img):\n",
      "        return self.detector.detect(img)\n",
      "\n",
      "if __name__=='__main__':\n",
      "    # Load input image -- 'table.jpg'\n",
      "    input_file = sys.argv[1]\n",
      "    input_img = cv2.imread(input_file)\n",
      "\n",
      "    # Convert to grayscale\n",
      "    img_gray = cv2.cvtColor(input_img, cv2.COLOR_BGR2GRAY)\n",
      "\n",
      "    # Detect features using Star feature detector\n",
      "    keypoints = StarFeatureDetector().detect(input_img)\n",
      "\n",
      "    # Draw keypoints and display the image\n",
      "    cv2.drawKeypoints(input_img, keypoints, input_img, \n",
      "            flags=cv2.DRAW_MATCHES_FLAGS_DRAW_RICH_KEYPOINTS)\n",
      "    cv2.imshow('Star features', input_img)\n",
      "\n",
      "    cv2.waitKey()"
     ],
     "language": "python",
     "metadata": {},
     "outputs": []
    }
   ],
   "metadata": {}
  }
 ]
}
