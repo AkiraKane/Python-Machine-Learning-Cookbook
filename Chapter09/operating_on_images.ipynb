{
 "metadata": {},
 "nbformat": 3,
 "nbformat_minor": 0,
 "worksheets": [
  {
   "cells": [
    {
     "cell_type": "code",
     "collapsed": false,
     "input": [
      "import sys\n",
      "\n",
      "import cv2\n",
      "import numpy as np\n",
      "\n",
      "# Load and display an image -- 'forest.jpg'\n",
      "input_file = sys.argv[1]\n",
      "img = cv2.imread(input_file)\n",
      "cv2.imshow('Original', img)\n",
      "\n",
      "# Cropping an image\n",
      "h, w = img.shape[:2]\n",
      "start_row, end_row = int(0.21*h), int(0.73*h)\n",
      "start_col, end_col= int(0.37*w), int(0.92*w)\n",
      "img_cropped = img[start_row:end_row, start_col:end_col]\n",
      "cv2.imshow('Cropped', img_cropped)\n",
      "\n",
      "# Resizing an image\n",
      "scaling_factor = 1.3\n",
      "img_scaled = cv2.resize(img, None, fx=scaling_factor, fy=scaling_factor, \n",
      "        interpolation=cv2.INTER_LINEAR)\n",
      "cv2.imshow('Uniform resizing', img_scaled)\n",
      "img_scaled = cv2.resize(img, (250, 400), interpolation=cv2.INTER_AREA)\n",
      "cv2.imshow('Skewed resizing', img_scaled)\n",
      "\n",
      "# Save an image\n",
      "output_file = input_file[:-4] + '_cropped.jpg'\n",
      "cv2.imwrite(output_file, img_cropped)\n",
      "\n",
      "cv2.waitKey()"
     ],
     "language": "python",
     "metadata": {},
     "outputs": []
    }
   ],
   "metadata": {}
  }
 ]
}
