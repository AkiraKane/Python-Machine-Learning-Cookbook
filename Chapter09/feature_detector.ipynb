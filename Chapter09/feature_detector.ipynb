{
 "metadata": {},
 "nbformat": 3,
 "nbformat_minor": 0,
 "worksheets": [
  {
   "cells": [
    {
     "cell_type": "code",
     "collapsed": false,
     "input": [
      "import sys\n",
      "\n",
      "import cv2\n",
      "import numpy as np\n",
      "\n",
      "# Load input image -- 'table.jpg'\n",
      "input_file = sys.argv[1]\n",
      "img = cv2.imread(input_file)\n",
      "img_gray = cv2.cvtColor(img, cv2.COLOR_BGR2GRAY)\n",
      "\n",
      "sift = cv2.xfeatures2d.SIFT_create()\n",
      "keypoints = sift.detect(img_gray, None)\n",
      "\n",
      "img_sift = np.copy(img)\n",
      "cv2.drawKeypoints(img, keypoints, img_sift, flags=cv2.DRAW_MATCHES_FLAGS_DRAW_RICH_KEYPOINTS)\n",
      "\n",
      "cv2.imshow('Input image', img)\n",
      "cv2.imshow('SIFT features', img_sift)\n",
      "cv2.waitKey()"
     ],
     "language": "python",
     "metadata": {},
     "outputs": []
    }
   ],
   "metadata": {}
  }
 ]
}
