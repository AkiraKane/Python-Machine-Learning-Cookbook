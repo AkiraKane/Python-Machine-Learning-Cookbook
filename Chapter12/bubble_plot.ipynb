{
 "metadata": {},
 "nbformat": 3,
 "nbformat_minor": 0,
 "worksheets": [
  {
   "cells": [
    {
     "cell_type": "code",
     "collapsed": false,
     "input": [
      "import numpy as np\n",
      "import matplotlib.pyplot as plt\n",
      "\n",
      "# Define the number of values\n",
      "num_vals = 40\n",
      "\n",
      "# Generate random values\n",
      "x = np.random.rand(num_vals)\n",
      "y = np.random.rand(num_vals)\n",
      "\n",
      "# Define area for each bubble\n",
      "# Max radius is set to a specified value\n",
      "max_radius = 25\n",
      "area = np.pi * (max_radius * np.random.rand(num_vals)) ** 2  \n",
      "\n",
      "# Generate colors\n",
      "colors = np.random.rand(num_vals)\n",
      "\n",
      "# Plot the points\n",
      "plt.scatter(x, y, s=area, c=colors, alpha=1.0)\n",
      "\n",
      "plt.show()"
     ],
     "language": "python",
     "metadata": {},
     "outputs": []
    }
   ],
   "metadata": {}
  }
 ]
}
