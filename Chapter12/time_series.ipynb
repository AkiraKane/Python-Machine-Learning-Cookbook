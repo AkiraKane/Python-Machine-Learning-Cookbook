{
 "metadata": {},
 "nbformat": 3,
 "nbformat_minor": 0,
 "worksheets": [
  {
   "cells": [
    {
     "cell_type": "code",
     "collapsed": false,
     "input": [
      "import numpy\n",
      "import matplotlib.pyplot as plt\n",
      "from matplotlib.mlab import csv2rec\n",
      "import matplotlib.cbook as cbook\n",
      "from matplotlib.ticker import Formatter\n",
      "\n",
      "# Define a class for formatting\n",
      "class DataFormatter(Formatter):\n",
      "    def __init__(self, dates, date_format='%Y-%m-%d'):\n",
      "        self.dates = dates\n",
      "        self.date_format = date_format\n",
      "\n",
      "    # Extact the value at time t at position 'position'\n",
      "    def __call__(self, t, position=0):\n",
      "        index = int(round(t))\n",
      "        if index >= len(self.dates) or index < 0:\n",
      "            return ''\n",
      "\n",
      "        return self.dates[index].strftime(self.date_format)\n",
      "\n",
      "if __name__=='__main__':\n",
      "    # CSV file containing the stock quotes \n",
      "    input_file = cbook.get_sample_data('aapl.csv', asfileobj=False)\n",
      "\n",
      "    # Load csv file into numpy record array\n",
      "    data = csv2rec(input_file)\n",
      "    \n",
      "    # Take a subset for plotting\n",
      "    data = data[-70:]\n",
      "\n",
      "    # Create the date formatter object\n",
      "    formatter = DataFormatter(data.date)\n",
      "\n",
      "    # X axis\n",
      "    x_vals = numpy.arange(len(data))\n",
      "\n",
      "    # Y axis values are the closing stock quotes\n",
      "    y_vals = data.close \n",
      "\n",
      "    # Plot data\n",
      "    fig, ax = plt.subplots()\n",
      "    ax.xaxis.set_major_formatter(formatter)\n",
      "    ax.plot(x_vals, y_vals, 'o-')\n",
      "    fig.autofmt_xdate()\n",
      "    plt.show()"
     ],
     "language": "python",
     "metadata": {},
     "outputs": []
    }
   ],
   "metadata": {}
  }
 ]
}
