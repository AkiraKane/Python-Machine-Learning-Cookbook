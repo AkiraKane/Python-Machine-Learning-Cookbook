{
 "metadata": {},
 "nbformat": 3,
 "nbformat_minor": 0,
 "worksheets": [
  {
   "cells": [
    {
     "cell_type": "code",
     "collapsed": false,
     "input": [
      "import numpy as np\n",
      "import matplotlib.pyplot as plt\n",
      "\n",
      "# Define the two groups \n",
      "group1 = ['France', 'Italy', 'Spain', 'Portugal', 'Germany'] \n",
      "group2 = ['Japan', 'China', 'Brazil', 'Russia', 'Australia']\n",
      "\n",
      "# Generate some random values\n",
      "data = np.random.rand(5, 5)\n",
      "\n",
      "# Create a figure\n",
      "fig, ax = plt.subplots()\n",
      "\n",
      "# Create the heat map\n",
      "heatmap = ax.pcolor(data, cmap=plt.cm.gray)\n",
      "\n",
      "# Add major ticks at the middle of each cell\n",
      "ax.set_xticks(np.arange(data.shape[0]) + 0.5, minor=False)\n",
      "ax.set_yticks(np.arange(data.shape[1]) + 0.5, minor=False)\n",
      "\n",
      "# Make it look like a table \n",
      "ax.invert_yaxis()\n",
      "ax.xaxis.tick_top()\n",
      "\n",
      "# Add tick labels\n",
      "ax.set_xticklabels(group2, minor=False)\n",
      "ax.set_yticklabels(group1, minor=False)\n",
      "\n",
      "plt.show()"
     ],
     "language": "python",
     "metadata": {},
     "outputs": []
    }
   ],
   "metadata": {}
  }
 ]
}
