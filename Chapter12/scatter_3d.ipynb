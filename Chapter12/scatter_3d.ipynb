{
 "metadata": {},
 "nbformat": 3,
 "nbformat_minor": 0,
 "worksheets": [
  {
   "cells": [
    {
     "cell_type": "code",
     "collapsed": false,
     "input": [
      "import numpy as np\n",
      "import matplotlib.pyplot as plt\n",
      "from mpl_toolkits.mplot3d import Axes3D\n",
      "\n",
      "# Create the figure\n",
      "fig = plt.figure()\n",
      "ax = fig.add_subplot(111, projection='3d')\n",
      "\n",
      "# Define the number of values\n",
      "n = 250\n",
      "\n",
      "# Create a lambda function to generate the random values in the given range\n",
      "f = lambda minval, maxval, n: minval + (maxval - minval) * np.random.rand(n)\n",
      "\n",
      "# Generate the values\n",
      "x_vals = f(15, 41, n)\n",
      "y_vals = f(-10, 70, n)\n",
      "z_vals = f(-52, -37, n)\n",
      "\n",
      "# Plot the values\n",
      "ax.scatter(x_vals, y_vals, z_vals, c='k', marker='o')\n",
      "ax.set_xlabel('X axis')\n",
      "ax.set_ylabel('Y axis')\n",
      "ax.set_zlabel('Z axis')\n",
      "\n",
      "plt.show()"
     ],
     "language": "python",
     "metadata": {},
     "outputs": []
    }
   ],
   "metadata": {}
  }
 ]
}
