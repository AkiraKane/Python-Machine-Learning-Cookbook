{
 "metadata": {},
 "nbformat": 3,
 "nbformat_minor": 0,
 "worksheets": [
  {
   "cells": [
    {
     "cell_type": "code",
     "collapsed": false,
     "input": [
      "import numpy as np\n",
      "import matplotlib.pyplot as plt\n",
      "\n",
      "# Input data\n",
      "apples = [30, 25, 22, 36, 21, 29]\n",
      "oranges = [24, 33, 19, 27, 35, 20]\n",
      "\n",
      "# Number of groups\n",
      "num_groups = len(apples)\n",
      "\n",
      "# Create the figure\n",
      "fig, ax = plt.subplots()\n",
      "\n",
      "# Define the X axis\n",
      "indices = np.arange(num_groups)\n",
      "\n",
      "# Width and opacity of histogram bars\n",
      "bar_width = 0.4\n",
      "opacity = 0.6\n",
      "\n",
      "# Plot the values\n",
      "hist_apples = plt.bar(indices, apples, bar_width, \n",
      "        alpha=opacity, color='g', label='Apples')\n",
      "\n",
      "hist_oranges = plt.bar(indices + bar_width, oranges, bar_width,\n",
      "        alpha=opacity, color='b', label='Oranges')\n",
      "\n",
      "plt.xlabel('Month')\n",
      "plt.ylabel('Production quantity')\n",
      "plt.title('Comparing apples and oranges')\n",
      "plt.xticks(indices + bar_width, ('Jan', 'Feb', 'Mar', 'Apr', 'May', 'Jun'))\n",
      "plt.ylim([0, 45])\n",
      "plt.legend()\n",
      "plt.tight_layout()\n",
      "\n",
      "plt.show()"
     ],
     "language": "python",
     "metadata": {},
     "outputs": []
    }
   ],
   "metadata": {}
  }
 ]
}
