{
 "metadata": {},
 "nbformat": 3,
 "nbformat_minor": 0,
 "worksheets": [
  {
   "cells": [
    {
     "cell_type": "code",
     "collapsed": false,
     "input": [
      "import numpy as np\n",
      "import matplotlib.pyplot as plt\n",
      "\n",
      "# Labels and corresponding values in counter clockwise direction\n",
      "data = {'Apple': 26, \n",
      "        'Mango': 17,\n",
      "        'Pineapple': 21, \n",
      "        'Banana': 29, \n",
      "        'Strawberry': 11}\n",
      "\n",
      "# List of corresponding colors\n",
      "colors = ['orange', 'lightgreen', 'lightblue', 'gold', 'cyan']\n",
      "\n",
      "# Needed if we want to highlight a section\n",
      "explode = (0, 0, 0, 0, 0)  \n",
      "\n",
      "# Plot the pie chart\n",
      "plt.pie(list(data.values()), explode=explode, labels=list(data.keys()), \n",
      "        colors=colors, autopct='%1.1f%%', shadow=False, startangle=90)\n",
      "\n",
      "# Aspect ratio of the pie chart, 'equal' indicates tht we \n",
      "# want it to be a circle\n",
      "plt.axis('equal')\n",
      "\n",
      "plt.show()"
     ],
     "language": "python",
     "metadata": {},
     "outputs": []
    }
   ],
   "metadata": {}
  }
 ]
}
