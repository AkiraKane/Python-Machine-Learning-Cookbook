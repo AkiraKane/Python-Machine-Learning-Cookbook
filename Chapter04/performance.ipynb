{
 "metadata": {},
 "nbformat": 3,
 "nbformat_minor": 0,
 "worksheets": [
  {
   "cells": [
    {
     "cell_type": "code",
     "collapsed": false,
     "input": [
      "import numpy as np\n",
      "import matplotlib.pyplot as plt\n",
      "from sklearn import metrics\n",
      "from sklearn.cluster import KMeans\n",
      "\n",
      "import utilities\n",
      "\n",
      "# Load data\n",
      "data = utilities.load_data('data_perf.txt')\n",
      "\n",
      "scores = []\n",
      "range_values = np.arange(2, 10)\n",
      "\n",
      "for i in range_values:\n",
      "    # Train the model\n",
      "    kmeans = KMeans(init='k-means++', n_clusters=i, n_init=10)\n",
      "    kmeans.fit(data)\n",
      "    score = metrics.silhouette_score(data, kmeans.labels_, \n",
      "                metric='euclidean', sample_size=len(data))\n",
      "\n",
      "    print(\"\\nNumber of clusters =\", i)\n",
      "    print(\"Silhouette score =\", score)\n",
      "                    \n",
      "    scores.append(score)\n",
      "\n",
      "# Plot scores\n",
      "plt.figure()\n",
      "plt.bar(range_values, scores, width=0.6, color='k', align='center')\n",
      "plt.title('Silhouette score vs number of clusters')\n",
      "\n",
      "# Plot data\n",
      "plt.figure()\n",
      "plt.scatter(data[:,0], data[:,1], color='k', s=30, marker='o', facecolors='none')\n",
      "x_min, x_max = min(data[:, 0]) - 1, max(data[:, 0]) + 1\n",
      "y_min, y_max = min(data[:, 1]) - 1, max(data[:, 1]) + 1\n",
      "plt.title('Input data')\n",
      "plt.xlim(x_min, x_max)\n",
      "plt.ylim(y_min, y_max)\n",
      "plt.xticks(())\n",
      "plt.yticks(())\n",
      "\n",
      "plt.show()"
     ],
     "language": "python",
     "metadata": {},
     "outputs": []
    }
   ],
   "metadata": {}
  }
 ]
}
