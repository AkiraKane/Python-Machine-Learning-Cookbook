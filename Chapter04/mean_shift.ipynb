{
 "metadata": {},
 "nbformat": 3,
 "nbformat_minor": 0,
 "worksheets": [
  {
   "cells": [
    {
     "cell_type": "code",
     "collapsed": false,
     "input": [
      "import numpy as np\n",
      "from sklearn.cluster import MeanShift, estimate_bandwidth\n",
      "\n",
      "import utilities\n",
      "\n",
      "# Load data from input file\n",
      "X = utilities.load_data('data_multivar.txt')\n",
      "\n",
      "# Estimating the bandwidth \n",
      "bandwidth = estimate_bandwidth(X, quantile=0.1, n_samples=len(X))\n",
      "\n",
      "# Compute clustering with MeanShift\n",
      "meanshift_estimator = MeanShift(bandwidth=bandwidth, bin_seeding=True)\n",
      "meanshift_estimator.fit(X)\n",
      "labels = meanshift_estimator.labels_\n",
      "centroids = meanshift_estimator.cluster_centers_\n",
      "num_clusters = len(np.unique(labels))\n",
      "\n",
      "print(\"Number of clusters in input data =\", num_clusters)\n",
      "\n",
      "###########################################################\n",
      "# Plot the points and centroids \n",
      "\n",
      "import matplotlib.pyplot as plt\n",
      "from itertools import cycle\n",
      "\n",
      "plt.figure()\n",
      "\n",
      "# specify marker shapes for different clusters\n",
      "markers = '.*xv'\n",
      "\n",
      "for i, marker in zip(list(range(num_clusters)), markers):\n",
      "    # plot the points belong to the current cluster\n",
      "    plt.scatter(X[labels==i, 0], X[labels==i, 1], marker=marker, color='k')\n",
      "\n",
      "    # plot the centroid of the current cluster\n",
      "    centroid = centroids[i]\n",
      "    plt.plot(centroid[0], centroid[1], marker='o', markerfacecolor='k',\n",
      "             markeredgecolor='k', markersize=15)\n",
      "\n",
      "plt.title('Clusters and their centroids')\n",
      "plt.show()"
     ],
     "language": "python",
     "metadata": {},
     "outputs": []
    }
   ],
   "metadata": {}
  }
 ]
}
