{
 "metadata": {},
 "nbformat": 3,
 "nbformat_minor": 0,
 "worksheets": [
  {
   "cells": [
    {
     "cell_type": "code",
     "collapsed": false,
     "input": [
      "import numpy as np\n",
      "import matplotlib.pyplot as plt\n",
      "from sklearn.svm import SVC\n",
      "\n",
      "import utilities \n",
      "\n",
      "# Load input data\n",
      "input_file = 'data_multivar.txt'\n",
      "X, y = utilities.load_data(input_file)\n",
      "\n",
      "###############################################\n",
      "# Train test split\n",
      "from sklearn import cross_validation\n",
      "\n",
      "X_train, X_test, y_train, y_test = cross_validation.train_test_split(X, y, test_size=0.25, random_state=5)\n",
      "\n",
      "params = {'kernel': 'rbf'}\n",
      "classifier = SVC(**params)\n",
      "classifier.fit(X_train, y_train)\n",
      "\n",
      "###############################################\n",
      "# Measure distance from the boundary\n",
      "\n",
      "input_datapoints = np.array([[2, 1.5], [8, 9], [4.8, 5.2], [4, 4], [2.5, 7], [7.6, 2], [5.4, 5.9]])\n",
      "print(\"\\nDistance from the boundary:\")\n",
      "for i in input_datapoints:\n",
      "    print(i, '-->', classifier.decision_function(i)[0])\n",
      "\n",
      "# Confidence measure\n",
      "params = {'kernel': 'rbf', 'probability': True}\n",
      "classifier = SVC(**params)\n",
      "classifier.fit(X_train, y_train)\n",
      "print(\"\\nConfidence measure:\")\n",
      "for i in input_datapoints:\n",
      "    print(i, '-->', classifier.predict_proba(i)[0])\n",
      "\n",
      "utilities.plot_classifier(classifier, input_datapoints, [0]*len(input_datapoints), 'Input datapoints', 'True')\n",
      "plt.show()"
     ],
     "language": "python",
     "metadata": {},
     "outputs": []
    }
   ],
   "metadata": {}
  }
 ]
}
