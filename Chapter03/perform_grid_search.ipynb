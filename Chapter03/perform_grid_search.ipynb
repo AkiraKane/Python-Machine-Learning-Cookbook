{
 "metadata": {},
 "nbformat": 3,
 "nbformat_minor": 0,
 "worksheets": [
  {
   "cells": [
    {
     "cell_type": "code",
     "collapsed": false,
     "input": [
      "import numpy as np\n",
      "import matplotlib.pyplot as plt\n",
      "from sklearn import svm, grid_search, cross_validation\n",
      "from sklearn.metrics import classification_report\n",
      "\n",
      "import utilities \n",
      "\n",
      "# Load input data\n",
      "input_file = 'data_multivar.txt'\n",
      "X, y = utilities.load_data(input_file)\n",
      "\n",
      "###############################################\n",
      "# Train test split\n",
      "\n",
      "X_train, X_test, y_train, y_test = cross_validation.train_test_split(X, y, test_size=0.25, random_state=5)\n",
      "\n",
      "# Set the parameters by cross-validation\n",
      "parameter_grid = [  {'kernel': ['linear'], 'C': [1, 10, 50, 600]},\n",
      "                    {'kernel': ['poly'], 'degree': [2, 3]},\n",
      "                    {'kernel': ['rbf'], 'gamma': [0.01, 0.001], 'C': [1, 10, 50, 600]},\n",
      "                 ]\n",
      "\n",
      "metrics = ['precision', 'recall_weighted']\n",
      "\n",
      "for metric in metrics:\n",
      "    print(\"\\n#### Searching optimal hyperparameters for\", metric)\n",
      "\n",
      "    classifier = grid_search.GridSearchCV(svm.SVC(C=1), \n",
      "            parameter_grid, cv=5, scoring=metric)\n",
      "    classifier.fit(X_train, y_train)\n",
      "\n",
      "    print(\"\\nScores across the parameter grid:\")\n",
      "    for params, avg_score, _ in classifier.grid_scores_:\n",
      "        print(params, '-->', round(avg_score, 3))\n",
      "\n",
      "    print(\"\\nHighest scoring parameter set:\", classifier.best_params_)\n",
      "\n",
      "    y_true, y_pred = y_test, classifier.predict(X_test)\n",
      "    print(\"\\nFull performance report:\\n\")\n",
      "    print(classification_report(y_true, y_pred))"
     ],
     "language": "python",
     "metadata": {},
     "outputs": []
    }
   ],
   "metadata": {}
  }
 ]
}
