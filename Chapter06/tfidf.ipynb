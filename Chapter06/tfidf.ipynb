{
 "metadata": {},
 "nbformat": 3,
 "nbformat_minor": 0,
 "worksheets": [
  {
   "cells": [
    {
     "cell_type": "code",
     "collapsed": false,
     "input": [
      "from sklearn.datasets import fetch_20newsgroups\n",
      "\n",
      "category_map = {'misc.forsale': 'Sales', 'rec.motorcycles': 'Motorcycles', \n",
      "        'rec.sport.baseball': 'Baseball', 'sci.crypt': 'Cryptography', \n",
      "        'sci.space': 'Space'}\n",
      "training_data = fetch_20newsgroups(subset='train', \n",
      "        categories=list(category_map.keys()), shuffle=True, random_state=7)\n",
      "\n",
      "# Feature extraction\n",
      "from sklearn.feature_extraction.text import CountVectorizer\n",
      "\n",
      "vectorizer = CountVectorizer()\n",
      "X_train_termcounts = vectorizer.fit_transform(training_data.data)\n",
      "print(\"\\nDimensions of training data:\", X_train_termcounts.shape)\n",
      "\n",
      "# Training a classifier\n",
      "from sklearn.naive_bayes import MultinomialNB\n",
      "from sklearn.feature_extraction.text import TfidfTransformer\n",
      "\n",
      "input_data = [\n",
      "    \"The curveballs of right handed pitchers tend to curve to the left\", \n",
      "    \"Caesar cipher is an ancient form of encryption\",\n",
      "    \"This two-wheeler is really good on slippery roads\"\n",
      "]\n",
      "\n",
      "# tf-idf transformer\n",
      "tfidf_transformer = TfidfTransformer()\n",
      "X_train_tfidf = tfidf_transformer.fit_transform(X_train_termcounts)\n",
      "\n",
      "# Multinomial Naive Bayes classifier\n",
      "classifier = MultinomialNB().fit(X_train_tfidf, training_data.target)\n",
      "X_input_termcounts = vectorizer.transform(input_data)\n",
      "X_input_tfidf = tfidf_transformer.transform(X_input_termcounts)\n",
      "\n",
      "# Predict the output categories\n",
      "predicted_categories = classifier.predict(X_input_tfidf)\n",
      "\n",
      "# Print the outputs\n",
      "for sentence, category in zip(input_data, predicted_categories):\n",
      "    print('\\nInput:', sentence, '\\nPredicted category:', \\\n",
      "            category_map[training_data.target_names[category]])"
     ],
     "language": "python",
     "metadata": {},
     "outputs": []
    }
   ],
   "metadata": {}
  }
 ]
}
