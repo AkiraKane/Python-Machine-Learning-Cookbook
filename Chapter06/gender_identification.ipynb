{
 "metadata": {},
 "nbformat": 3,
 "nbformat_minor": 0,
 "worksheets": [
  {
   "cells": [
    {
     "cell_type": "code",
     "collapsed": false,
     "input": [
      "import random\n",
      "from nltk.corpus import names\n",
      "from nltk import NaiveBayesClassifier\n",
      "from nltk.classify import accuracy as nltk_accuracy\n",
      "\n",
      "# Extract features from the input word\n",
      "def gender_features(word, num_letters=2):\n",
      "    return {'feature': word[-num_letters:].lower()}\n",
      "\n",
      "if __name__=='__main__':\n",
      "    # Extract labeled names\n",
      "    labeled_names = ([(name, 'male') for name in names.words('male.txt')] +\n",
      "            [(name, 'female') for name in names.words('female.txt')])\n",
      "\n",
      "    random.seed(7)\n",
      "    random.shuffle(labeled_names)\n",
      "    input_names = ['Leonardo', 'Amy', 'Sam']\n",
      "\n",
      "    # Sweeping the parameter space\n",
      "    for i in range(1, 5):\n",
      "        print('\\nNumber of letters:', i)\n",
      "        featuresets = [(gender_features(n, i), gender) for (n, gender) in labeled_names]\n",
      "        train_set, test_set = featuresets[500:], featuresets[:500]\n",
      "        classifier = NaiveBayesClassifier.train(train_set)\n",
      "\n",
      "        # Print classifier accuracy\n",
      "        print('Accuracy ==>', str(100 * nltk_accuracy(classifier, test_set)) + str('%'))\n",
      "\n",
      "        # Predict outputs for new inputs\n",
      "        for name in input_names:\n",
      "            print(name, '==>', classifier.classify(gender_features(name, i)))"
     ],
     "language": "python",
     "metadata": {},
     "outputs": []
    }
   ],
   "metadata": {}
  }
 ]
}
