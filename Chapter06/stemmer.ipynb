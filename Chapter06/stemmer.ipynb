{
 "metadata": {},
 "nbformat": 3,
 "nbformat_minor": 0,
 "worksheets": [
  {
   "cells": [
    {
     "cell_type": "code",
     "collapsed": false,
     "input": [
      "from nltk.stem.porter import PorterStemmer\n",
      "from nltk.stem.lancaster import LancasterStemmer\n",
      "from nltk.stem.snowball import SnowballStemmer\n",
      "\n",
      "words = ['table', 'probably', 'wolves', 'playing', 'is', \n",
      "        'dog', 'the', 'beaches', 'grounded', 'dreamt', 'envision']\n",
      "\n",
      "# Compare different stemmers\n",
      "stemmers = ['PORTER', 'LANCASTER', 'SNOWBALL']\n",
      "stemmer_porter = PorterStemmer()\n",
      "stemmer_lancaster = LancasterStemmer()\n",
      "stemmer_snowball = SnowballStemmer('english')\n",
      "\n",
      "formatted_row = '{:>16}' * (len(stemmers) + 1)\n",
      "print('\\n', formatted_row.format('WORD', *stemmers), '\\n')\n",
      "for word in words:\n",
      "    stemmed_words = [stemmer_porter.stem(word), \n",
      "            stemmer_lancaster.stem(word), stemmer_snowball.stem(word)]\n",
      "    print(formatted_row.format(word, *stemmed_words))"
     ],
     "language": "python",
     "metadata": {},
     "outputs": []
    }
   ],
   "metadata": {}
  }
 ]
}
