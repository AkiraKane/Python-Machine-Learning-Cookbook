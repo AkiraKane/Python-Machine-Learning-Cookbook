{
 "metadata": {},
 "nbformat": 3,
 "nbformat_minor": 0,
 "worksheets": [
  {
   "cells": [
    {
     "cell_type": "code",
     "collapsed": false,
     "input": [
      "from nltk.stem import WordNetLemmatizer\n",
      "\n",
      "words = ['table', 'probably', 'wolves', 'playing', 'is', \n",
      "        'dog', 'the', 'beaches', 'grounded', 'dreamt', 'envision']\n",
      "\n",
      "# Compare different lemmatizers\n",
      "lemmatizers = ['NOUN LEMMATIZER', 'VERB LEMMATIZER']\n",
      "lemmatizer_wordnet = WordNetLemmatizer()\n",
      "\n",
      "formatted_row = '{:>24}' * (len(lemmatizers) + 1)\n",
      "print('\\n', formatted_row.format('WORD', *lemmatizers), '\\n')\n",
      "for word in words:\n",
      "    lemmatized_words = [lemmatizer_wordnet.lemmatize(word, pos='n'),\n",
      "           lemmatizer_wordnet.lemmatize(word, pos='v')]\n",
      "    print(formatted_row.format(word, *lemmatized_words))"
     ],
     "language": "python",
     "metadata": {},
     "outputs": []
    }
   ],
   "metadata": {}
  }
 ]
}
