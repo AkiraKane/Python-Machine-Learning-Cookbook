{
 "metadata": {},
 "nbformat": 3,
 "nbformat_minor": 0,
 "worksheets": [
  {
   "cells": [
    {
     "cell_type": "code",
     "collapsed": false,
     "input": [
      "import numpy as np\n",
      "import matplotlib.pyplot as plt\n",
      "from scipy.io.wavfile import write\n",
      "\n",
      "# File where the output will be saved\n",
      "output_file = 'output_generated.wav'\n",
      "\n",
      "# Specify audio parameters\n",
      "duration = 3  # seconds\n",
      "sampling_freq = 44100  # Hz\n",
      "tone_freq = 587\n",
      "min_val = -2 * np.pi\n",
      "max_val = 2 * np.pi\n",
      "\n",
      "# Generate audio\n",
      "t = np.linspace(min_val, max_val, duration * sampling_freq)\n",
      "audio = np.sin(2 * np.pi * tone_freq * t)\n",
      "\n",
      "# Add some noise\n",
      "noise = 0.4 * np.random.rand(duration * sampling_freq)\n",
      "audio += noise\n",
      "\n",
      "# Scale it to 16-bit integer values\n",
      "scaling_factor = pow(2,15) - 1\n",
      "audio_normalized = audio / np.max(np.abs(audio))\n",
      "audio_scaled = np.int16(audio_normalized * scaling_factor)\n",
      "\n",
      "# Write to output file\n",
      "write(output_file, sampling_freq, audio_scaled)\n",
      "\n",
      "# Extract first 100 values for plotting\n",
      "audio = audio[:100]\n",
      "\n",
      "# Build the time axis\n",
      "x_values = np.arange(0, len(audio), 1) / float(sampling_freq)\n",
      "\n",
      "# Convert to seconds\n",
      "x_values *= 1000\n",
      "\n",
      "# Plotting the chopped audio signal\n",
      "plt.plot(x_values, audio, color='black')\n",
      "plt.xlabel('Time (ms)')\n",
      "plt.ylabel('Amplitude')\n",
      "plt.title('Audio signal')\n",
      "plt.show()"
     ],
     "language": "python",
     "metadata": {},
     "outputs": []
    }
   ],
   "metadata": {}
  }
 ]
}
