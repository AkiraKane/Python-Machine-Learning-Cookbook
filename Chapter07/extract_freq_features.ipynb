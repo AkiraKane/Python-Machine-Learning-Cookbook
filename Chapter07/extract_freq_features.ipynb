{
 "metadata": {},
 "nbformat": 3,
 "nbformat_minor": 0,
 "worksheets": [
  {
   "cells": [
    {
     "cell_type": "code",
     "collapsed": false,
     "input": [
      "import numpy as np\n",
      "import matplotlib.pyplot as plt\n",
      "from scipy.io import wavfile \n",
      "from features import mfcc, logfbank\n",
      "\n",
      "# Read input sound file\n",
      "sampling_freq, audio = wavfile.read(\"input_freq.wav\")\n",
      "\n",
      "# Extract MFCC and Filter bank features\n",
      "mfcc_features = mfcc(audio, sampling_freq)\n",
      "filterbank_features = logfbank(audio, sampling_freq)\n",
      "\n",
      "# Print parameters\n",
      "print('\\nMFCC:\\nNumber of windows =', mfcc_features.shape[0])\n",
      "print('Length of each feature =', mfcc_features.shape[1])\n",
      "print('\\nFilter bank:\\nNumber of windows =', filterbank_features.shape[0])\n",
      "print('Length of each feature =', filterbank_features.shape[1])\n",
      "\n",
      "# Plot the features\n",
      "mfcc_features = mfcc_features.T\n",
      "plt.matshow(mfcc_features)\n",
      "plt.title('MFCC')\n",
      "\n",
      "filterbank_features = filterbank_features.T\n",
      "plt.matshow(filterbank_features)\n",
      "plt.title('Filter bank')\n",
      "\n",
      "plt.show()"
     ],
     "language": "python",
     "metadata": {},
     "outputs": []
    }
   ],
   "metadata": {}
  }
 ]
}
