{
 "metadata": {},
 "nbformat": 3,
 "nbformat_minor": 0,
 "worksheets": [
  {
   "cells": [
    {
     "cell_type": "code",
     "collapsed": false,
     "input": [
      "import numpy as np\n",
      "import matplotlib.pyplot as plt\n",
      "from scipy.io import wavfile\n",
      "\n",
      "# Read the input file\n",
      "sampling_freq, audio = wavfile.read('input_read.wav')\n",
      "\n",
      "# Print the params\n",
      "print('\\nShape:', audio.shape)\n",
      "print('Datatype:', audio.dtype)\n",
      "print('Duration:', round(audio.shape[0] / float(sampling_freq), 3), 'seconds')\n",
      "\n",
      "# Normalize the values\n",
      "audio = audio / (2.**15)\n",
      "\n",
      "# Extract first 30 values for plotting\n",
      "audio = audio[:30]\n",
      "\n",
      "# Build the time axis\n",
      "x_values = np.arange(0, len(audio), 1) / float(sampling_freq)\n",
      "\n",
      "# Convert to seconds\n",
      "x_values *= 1000\n",
      "\n",
      "# Plotting the chopped audio signal\n",
      "plt.plot(x_values, audio, color='black')\n",
      "plt.xlabel('Time (ms)')\n",
      "plt.ylabel('Amplitude')\n",
      "plt.title('Audio signal')\n",
      "plt.show()"
     ],
     "language": "python",
     "metadata": {},
     "outputs": []
    }
   ],
   "metadata": {}
  }
 ]
}
