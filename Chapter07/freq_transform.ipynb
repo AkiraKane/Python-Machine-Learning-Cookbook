{
 "metadata": {},
 "nbformat": 3,
 "nbformat_minor": 0,
 "worksheets": [
  {
   "cells": [
    {
     "cell_type": "code",
     "collapsed": false,
     "input": [
      "import numpy as np\n",
      "from scipy.io import wavfile\n",
      "import matplotlib.pyplot as plt\n",
      "\n",
      "# Read the input file\n",
      "sampling_freq, audio = wavfile.read('input_freq.wav')\n",
      "\n",
      "# Normalize the values\n",
      "audio = audio / (2.**15)\n",
      "\n",
      "# Extract length\n",
      "len_audio = len(audio)\n",
      "\n",
      "# Apply Fourier transform\n",
      "transformed_signal = np.fft.fft(audio)\n",
      "half_length = np.ceil((len_audio + 1) / 2.0)\n",
      "transformed_signal = abs(transformed_signal[0:half_length])\n",
      "transformed_signal /= float(len_audio)\n",
      "transformed_signal **= 2\n",
      "\n",
      "# Extract length of transformed signal\n",
      "len_ts = len(transformed_signal)\n",
      "\n",
      "# Take care of even/odd cases\n",
      "if len_audio % 2:\n",
      "    transformed_signal[1:len_ts] *= 2\n",
      "else:\n",
      "    transformed_signal[1:len_ts-1] *= 2\n",
      "\n",
      "# Extract power in dB\n",
      "power = 10 * np.log10(transformed_signal)\n",
      "\n",
      "# Build the time axis\n",
      "x_values = np.arange(0, half_length, 1) * (sampling_freq / len_audio) / 1000.0\n",
      "\n",
      "# Plot the figure\n",
      "plt.figure()\n",
      "plt.plot(x_values, power, color='black')\n",
      "plt.xlabel('Freq (in kHz)')\n",
      "plt.ylabel('Power (in dB)')\n",
      "plt.show()"
     ],
     "language": "python",
     "metadata": {},
     "outputs": []
    }
   ],
   "metadata": {}
  }
 ]
}
