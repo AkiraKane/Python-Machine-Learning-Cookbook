{
 "cells": [
  {
   "cell_type": "markdown",
   "metadata": {},
   "source": [
    "# Random forest regressor\n",
    "\n",
    "Predicting the count via a random forest."
   ]
  },
  {
   "cell_type": "code",
   "execution_count": 4,
   "metadata": {
    "collapsed": false
   },
   "outputs": [
    {
     "name": "stdout",
     "output_type": "stream",
     "text": [
      "\n",
      "#### Random Forest regressor performance ####\n",
      "('Mean squared error =', 355254.3)\n",
      "('Explained variance score =', 0.89)\n"
     ]
    },
    {
     "data": {
      "image/png": "[encoded data removed]",
      "text/plain": [
       "<matplotlib.figure.Figure at 0x1162f2048>"
      ]
     },
     "metadata": {},
     "output_type": "display_data"
    }
   ],
   "source": [
    "import sys\n",
    "import csv\n",
    "\n",
    "import numpy as np\n",
    "from sklearn.ensemble import RandomForestRegressor \n",
    "from sklearn import preprocessing\n",
    "from sklearn.metrics import mean_squared_error, explained_variance_score\n",
    "from sklearn.utils import shuffle\n",
    "import matplotlib.pyplot as plt\n",
    "\n",
    "from housing import plot_feature_importances\n",
    "\n",
    "def load_dataset(filename):\n",
    "    file_reader = csv.reader(open(filename, 'rt'), delimiter=',')\n",
    "    X, y = [], []\n",
    "    for row in file_reader:\n",
    "        X.append(row[2:13])\n",
    "        y.append(row[-1])\n",
    "\n",
    "    # Extract feature names\n",
    "    feature_names = np.array(X[0])\n",
    "\n",
    "    # Remove the first row because they are feature names\n",
    "    return np.array(X[1:]).astype(np.float32), np.array(y[1:]).astype(np.float32), feature_names\n",
    "\n",
    "if __name__=='__main__':\n",
    "    # Load the dataset from the input file\n",
    "    X, y, feature_names = load_dataset(\"bike_day.csv\")\n",
    "    X, y = shuffle(X, y, random_state=7) \n",
    "\n",
    "    # Split the data 80/20 (80% for training, 20% for testing)\n",
    "    num_training = int(0.9 * len(X))\n",
    "    X_train, y_train = X[:num_training], y[:num_training]\n",
    "    X_test, y_test = X[num_training:], y[num_training:]\n",
    "\n",
    "    # Fit Random Forest regression model\n",
    "    rf_regressor = RandomForestRegressor(n_estimators=1000, max_depth=10, min_samples_split=3)\n",
    "    rf_regressor.fit(X_train, y_train)\n",
    "\n",
    "    # Evaluate performance of Random Forest regressor\n",
    "    y_pred = rf_regressor.predict(X_test)\n",
    "    mse = mean_squared_error(y_test, y_pred)\n",
    "    evs = explained_variance_score(y_test, y_pred) \n",
    "    print(\"\\n#### Random Forest regressor performance ####\")\n",
    "    print((\"Mean squared error =\", round(mse, 2)))\n",
    "    print((\"Explained variance score =\", round(evs, 2)))\n",
    "\n",
    "    # Plot relative feature importances \n",
    "    plot_feature_importances(rf_regressor.feature_importances_, 'Random Forest regressor', feature_names)"
   ]
  },
  {
   "cell_type": "code",
   "execution_count": null,
   "metadata": {},
   "outputs": [],
   "source": []
  }
 ],
 "metadata": {
  "kernelspec": {
   "display_name": "Python 3",
   "language": "python",
   "name": "python3"
  },
  "language_info": {
   "codemirror_mode": {
    "name": "ipython",
    "version": 3
   },
   "file_extension": ".py",
   "mimetype": "text/x-python",
   "name": "python",
   "nbconvert_exporter": "python",
   "pygments_lexer": "ipython3",
   "version": "3.6.3"
  }
 },
 "nbformat": 4,
 "nbformat_minor": 2
}
