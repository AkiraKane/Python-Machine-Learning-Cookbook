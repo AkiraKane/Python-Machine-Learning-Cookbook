{
 "metadata": {},
 "nbformat": 3,
 "nbformat_minor": 0,
 "worksheets": [
  {
   "cells": [
    {
     "cell_type": "code",
     "collapsed": false,
     "input": [
      "import numpy as np\n",
      "from sklearn import preprocessing\n",
      "\n",
      "label_encoder = preprocessing.LabelEncoder()\n",
      "input_classes = ['audi', 'ford', 'audi', 'toyota', 'ford', 'bmw']\n",
      "label_encoder.fit(input_classes)\n",
      "\n",
      "# print classes\n",
      "print(\"\\nClass mapping:\")\n",
      "for i, item in enumerate(label_encoder.classes_):\n",
      "    print((item, '-->', i))\n",
      "\n",
      "# transform a set of classes\n",
      "labels = ['toyota', 'ford', 'audi']\n",
      "encoded_labels = label_encoder.transform(labels)\n",
      "print((\"\\nLabels =\", labels)) \n",
      "print((\"Encoded labels =\", list(encoded_labels)))\n",
      "\n",
      "# inverse transform\n",
      "encoded_labels = [2, 1, 0, 3, 1]\n",
      "decoded_labels = label_encoder.inverse_transform(encoded_labels)\n",
      "print((\"\\nEncoded labels =\", encoded_labels))\n",
      "print((\"Decoded labels =\", list(decoded_labels)))"
     ],
     "language": "python",
     "metadata": {},
     "outputs": []
    }
   ],
   "metadata": {}
  }
 ]
}
