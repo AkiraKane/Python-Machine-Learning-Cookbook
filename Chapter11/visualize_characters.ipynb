{
 "metadata": {},
 "nbformat": 3,
 "nbformat_minor": 0,
 "worksheets": [
  {
   "cells": [
    {
     "cell_type": "code",
     "collapsed": false,
     "input": [
      "import os\n",
      "import sys\n",
      "\n",
      "import cv2\n",
      "import numpy as np\n",
      "\n",
      "# Load input data \n",
      "input_file = 'letter.data' \n",
      "\n",
      "# Define visualization parameters \n",
      "scaling_factor = 10\n",
      "start_index = 6\n",
      "end_index = -1\n",
      "h, w = 16, 8\n",
      "\n",
      "# Loop until you encounter the Esc key\n",
      "with open(input_file, 'r') as f:\n",
      "    for line in f.readlines():\n",
      "        data = np.array([255*float(x) for x in line.split('\\t')[start_index:end_index]])\n",
      "        img = np.reshape(data, (h,w))\n",
      "        img_scaled = cv2.resize(img, None, fx=scaling_factor, fy=scaling_factor)\n",
      "        cv2.imshow('Image', img_scaled)\n",
      "        c = cv2.waitKey()\n",
      "        if c == 27:\n",
      "            break"
     ],
     "language": "python",
     "metadata": {},
     "outputs": []
    }
   ],
   "metadata": {}
  }
 ]
}
