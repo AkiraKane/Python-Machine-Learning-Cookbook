{
 "metadata": {},
 "nbformat": 3,
 "nbformat_minor": 0,
 "worksheets": [
  {
   "cells": [
    {
     "cell_type": "code",
     "collapsed": false,
     "input": [
      "import numpy as np\n",
      "import matplotlib.pyplot as plt\n",
      "import neurolab as nl\n",
      "\n",
      "# Define input data\n",
      "input_file = 'data_single_layer.txt'\n",
      "input_text = np.loadtxt(input_file)\n",
      "data = input_text[:, 0:2]\n",
      "labels = input_text[:, 2:]\n",
      "\n",
      "# Plot input data\n",
      "plt.figure()\n",
      "plt.scatter(data[:,0], data[:,1])\n",
      "plt.xlabel('X-axis')\n",
      "plt.ylabel('Y-axis')\n",
      "plt.title('Input data')\n",
      "\n",
      "# Min and max values for each dimension\n",
      "x_min, x_max = data[:,0].min(), data[:,0].max()\n",
      "y_min, y_max = data[:,1].min(), data[:,1].max()\n",
      "\n",
      "# Define a single-layer neural network with 2 neurons;\n",
      "# Each element in the list (first argument) specifies the \n",
      "# min and max values of the inputs\n",
      "single_layer_net = nl.net.newp([[x_min, x_max], [y_min, y_max]], 2)\n",
      "\n",
      "# Train the neural network\n",
      "error = single_layer_net.train(data, labels, epochs=50, show=20, lr=0.01)\n",
      "\n",
      "# Plot results\n",
      "plt.figure()\n",
      "plt.plot(error)\n",
      "plt.xlabel('Number of epochs')\n",
      "plt.ylabel('Training error')\n",
      "plt.title('Training error progress')\n",
      "plt.grid()\n",
      "\n",
      "plt.show()\n",
      "\n",
      "print(single_layer_net.sim([[0.3, 4.5]]))\n",
      "print(single_layer_net.sim([[4.5, 0.5]]))\n",
      "print(single_layer_net.sim([[4.3, 8]]))"
     ],
     "language": "python",
     "metadata": {},
     "outputs": []
    }
   ],
   "metadata": {}
  }
 ]
}
