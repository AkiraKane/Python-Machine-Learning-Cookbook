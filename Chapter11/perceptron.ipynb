{
 "metadata": {},
 "nbformat": 3,
 "nbformat_minor": 0,
 "worksheets": [
  {
   "cells": [
    {
     "cell_type": "code",
     "collapsed": false,
     "input": [
      "import numpy as np\n",
      "import neurolab as nl\n",
      "import matplotlib.pyplot as plt\n",
      "\n",
      "# Define input data\n",
      "data = np.array([[0.3, 0.2], [0.1, 0.4], [0.4, 0.6], [0.9, 0.5]])\n",
      "labels = np.array([[0], [0], [0], [1]])\n",
      "\n",
      "# Plot input data\n",
      "plt.figure()\n",
      "plt.scatter(data[:,0], data[:,1])\n",
      "plt.xlabel('X-axis')\n",
      "plt.ylabel('Y-axis')\n",
      "plt.title('Input data')\n",
      "\n",
      "# Define a perceptron with 2 inputs;\n",
      "# Each element of the list in the first argument \n",
      "# specifies the min and max values of the inputs\n",
      "perceptron = nl.net.newp([[0, 1],[0, 1]], 1)\n",
      "\n",
      "# Train the perceptron\n",
      "error = perceptron.train(data, labels, epochs=50, show=15, lr=0.01)\n",
      "\n",
      "# plot results\n",
      "plt.figure()\n",
      "plt.plot(error)\n",
      "plt.xlabel('Number of epochs')\n",
      "plt.ylabel('Training error')\n",
      "plt.grid()\n",
      "plt.title('Training error progress')\n",
      "\n",
      "plt.show()"
     ],
     "language": "python",
     "metadata": {},
     "outputs": []
    }
   ],
   "metadata": {}
  }
 ]
}
