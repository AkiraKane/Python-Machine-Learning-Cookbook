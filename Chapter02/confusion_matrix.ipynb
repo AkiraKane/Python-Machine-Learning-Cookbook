{
 "metadata": {},
 "nbformat": 3,
 "nbformat_minor": 0,
 "worksheets": [
  {
   "cells": [
    {
     "cell_type": "code",
     "collapsed": false,
     "input": [
      "import numpy as np\n",
      "import matplotlib.pyplot as plt\n",
      "from sklearn.metrics import confusion_matrix\n",
      "\n",
      "# Show confusion matrix\n",
      "def plot_confusion_matrix(confusion_mat):\n",
      "    plt.imshow(confusion_mat, interpolation='nearest', cmap=plt.cm.gray)\n",
      "    plt.title('Confusion matrix')\n",
      "    plt.colorbar()\n",
      "    tick_marks = np.arange(4)\n",
      "    plt.xticks(tick_marks, tick_marks)\n",
      "    plt.yticks(tick_marks, tick_marks)\n",
      "    plt.ylabel('True label')\n",
      "    plt.xlabel('Predicted label')\n",
      "    plt.show()\n",
      "\n",
      "y_true = [1, 0, 0, 2, 1, 0, 3, 3, 3]\n",
      "y_pred = [1, 1, 0, 2, 1, 0, 1, 3, 3]\n",
      "confusion_mat = confusion_matrix(y_true, y_pred)\n",
      "plot_confusion_matrix(confusion_mat)\n",
      "\n",
      "# Print classification report\n",
      "from sklearn.metrics import classification_report\n",
      "target_names = ['Class-0', 'Class-1', 'Class-2', 'Class-3']\n",
      "print(classification_report(y_true, y_pred, target_names=target_names))"
     ],
     "language": "python",
     "metadata": {},
     "outputs": []
    }
   ],
   "metadata": {}
  }
 ]
}
