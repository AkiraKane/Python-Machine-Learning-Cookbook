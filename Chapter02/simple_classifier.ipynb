{
 "metadata": {},
 "nbformat": 3,
 "nbformat_minor": 0,
 "worksheets": [
  {
   "cells": [
    {
     "cell_type": "code",
     "collapsed": false,
     "input": [
      "import numpy as np\n",
      "import matplotlib.pyplot as plt\n",
      "\n",
      "# input data\n",
      "X = np.array([[3,1], [2,5], [1,8], [6,4], [5,2], [3,5], [4,7], [4,-1]])\n",
      "\n",
      "# labels\n",
      "y = [0, 1, 1, 0, 0, 1, 1, 0]\n",
      "\n",
      "# separate the data into classes based on 'y'\n",
      "class_0 = np.array([X[i] for i in range(len(X)) if y[i]==0])\n",
      "class_1 = np.array([X[i] for i in range(len(X)) if y[i]==1])\n",
      "\n",
      "# plot input data\n",
      "plt.figure()\n",
      "plt.scatter(class_0[:,0], class_0[:,1], color='black', marker='s')\n",
      "plt.scatter(class_1[:,0], class_1[:,1], color='black', marker='x')\n",
      "\n",
      "# draw the separator line\n",
      "line_x = list(range(10))\n",
      "line_y = line_x\n",
      "\n",
      "# plot labeled data and separator line \n",
      "plt.figure()\n",
      "plt.scatter(class_0[:,0], class_0[:,1], color='black', marker='s')\n",
      "plt.scatter(class_1[:,0], class_1[:,1], color='black', marker='x')\n",
      "plt.plot(line_x, line_y, color='black', linewidth=3)\n",
      "\n",
      "plt.show()"
     ],
     "language": "python",
     "metadata": {},
     "outputs": []
    }
   ],
   "metadata": {}
  }
 ]
}
