{
 "metadata": {},
 "nbformat": 3,
 "nbformat_minor": 0,
 "worksheets": [
  {
   "cells": [
    {
     "cell_type": "code",
     "collapsed": false,
     "input": [
      "import numpy as np\n",
      "from sklearn import decomposition\n",
      "\n",
      "# Define individual features\n",
      "x1 = np.random.normal(size=250)\n",
      "x2 = np.random.normal(size=250)\n",
      "x3 = 2*x1 + 3*x2\n",
      "x4 = 4*x1 - x2\n",
      "x5 = x3 + 2*x4\n",
      "\n",
      "# Create dataset with the above features\n",
      "X = np.c_[x1, x3, x2, x5, x4]\n",
      "\n",
      "# Perform Principal Components Analysis\n",
      "pca = decomposition.PCA()\n",
      "pca.fit(X)\n",
      "\n",
      "# Print variances\n",
      "variances = pca.explained_variance_\n",
      "print('\\nVariances in decreasing order:\\n', variances)\n",
      "\n",
      "# Find the number of useful dimensions\n",
      "thresh_variance = 0.8\n",
      "num_useful_dims = len(np.where(variances > thresh_variance)[0])\n",
      "print('\\nNumber of useful dimensions:', num_useful_dims)\n",
      "\n",
      "# As we can see, only the 2 first components are useful\n",
      "pca.n_components = num_useful_dims\n",
      "X_new = pca.fit_transform(X)\n",
      "print('\\nShape before:', X.shape)\n",
      "print('Shape after:', X_new.shape)"
     ],
     "language": "python",
     "metadata": {},
     "outputs": []
    }
   ],
   "metadata": {}
  }
 ]
}
