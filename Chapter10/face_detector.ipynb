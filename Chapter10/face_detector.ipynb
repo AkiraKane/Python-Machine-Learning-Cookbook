{
 "metadata": {},
 "nbformat": 3,
 "nbformat_minor": 0,
 "worksheets": [
  {
   "cells": [
    {
     "cell_type": "code",
     "collapsed": false,
     "input": [
      "import cv2\n",
      "import numpy as np\n",
      "\n",
      "# Load the face cascade file\n",
      "face_cascade = cv2.CascadeClassifier('cascade_files/haarcascade_frontalface_alt.xml')\n",
      "\n",
      "# Check if the face cascade file has been loaded\n",
      "if face_cascade.empty():\n",
      "\traise IOError('Unable to load the face cascade classifier xml file')\n",
      "\n",
      "# Initialize the video capture object\n",
      "cap = cv2.VideoCapture(0)\n",
      "\n",
      "# Define the scaling factor\n",
      "scaling_factor = 0.5\n",
      "\n",
      "# Loop until you hit the Esc key\n",
      "while True:\n",
      "    # Capture the current frame and resize it\n",
      "    ret, frame = cap.read()\n",
      "    frame = cv2.resize(frame, None, fx=scaling_factor, fy=scaling_factor, \n",
      "            interpolation=cv2.INTER_AREA)\n",
      "\n",
      "    # Convert to grayscale\n",
      "    gray = cv2.cvtColor(frame, cv2.COLOR_BGR2GRAY)\n",
      "\n",
      "    # Run the face detector on the grayscale image\n",
      "    face_rects = face_cascade.detectMultiScale(gray, 1.3, 5)\n",
      "\n",
      "    # Draw rectangles on the image\n",
      "    for (x,y,w,h) in face_rects:\n",
      "        cv2.rectangle(frame, (x,y), (x+w,y+h), (0,255,0), 3)\n",
      "\n",
      "    # Display the image\n",
      "    cv2.imshow('Face Detector', frame)\n",
      "\n",
      "    # Check if Esc key has been pressed\n",
      "    c = cv2.waitKey(1)\n",
      "    if c == 27:\n",
      "        break\n",
      "\n",
      "# Release the video capture object and close all windows\n",
      "cap.release()\n",
      "cv2.destroyAllWindows()"
     ],
     "language": "python",
     "metadata": {},
     "outputs": []
    }
   ],
   "metadata": {}
  }
 ]
}
