{
 "metadata": {},
 "nbformat": 3,
 "nbformat_minor": 0,
 "worksheets": [
  {
   "cells": [
    {
     "cell_type": "code",
     "collapsed": false,
     "input": [
      "import cv2\n",
      "\n",
      "# Initialize video capture object\n",
      "cap = cv2.VideoCapture(0)\n",
      "\n",
      "# Define the image size scaling factor\n",
      "scaling_factor = 0.5\n",
      "\n",
      "# Loop until you hit the Esc key\n",
      "while True:\n",
      "    # Capture the current frame\n",
      "    ret, frame = cap.read()\n",
      "\n",
      "    # Resize the frame\n",
      "    frame = cv2.resize(frame, None, fx=scaling_factor, fy=scaling_factor, \n",
      "            interpolation=cv2.INTER_AREA)\n",
      "\n",
      "    # Display the image\n",
      "    cv2.imshow('Webcam', frame)\n",
      "\n",
      "    # Detect if the Esc key has been pressed\n",
      "    c = cv2.waitKey(1)\n",
      "    if c == 27:\n",
      "        break\n",
      "\n",
      "# Release the video capture object\n",
      "cap.release()\n",
      "\n",
      "# Close all active windows\n",
      "cv2.destroyAllWindows()"
     ],
     "language": "python",
     "metadata": {},
     "outputs": []
    }
   ],
   "metadata": {}
  }
 ]
}
