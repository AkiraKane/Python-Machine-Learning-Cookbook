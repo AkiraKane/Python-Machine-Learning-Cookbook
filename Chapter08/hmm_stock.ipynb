{
 "metadata": {},
 "nbformat": 3,
 "nbformat_minor": 0,
 "worksheets": [
  {
   "cells": [
    {
     "cell_type": "code",
     "collapsed": false,
     "input": [
      "import datetime\n",
      "\n",
      "import numpy as np\n",
      "import matplotlib.pyplot as plt\n",
      "from hmmlearn.hmm import GaussianHMM\n",
      "\n",
      "try:\n",
      "    from matplotlib.finance import quotes_historical_yahoo_ochl\n",
      "except ImportError:\n",
      "    from matplotlib.finance import quotes_historical_yahoo as quotes_historical_yahoo_ochl\n",
      "\n",
      "# Get quotes from Yahoo finance\n",
      "quotes = quotes_historical_yahoo_ochl(\"INTC\", \n",
      "        datetime.date(1994, 4, 5), datetime.date(2015, 7, 3))\n",
      "\n",
      "# Extract the required values\n",
      "dates = np.array([quote[0] for quote in quotes], dtype=np.int)\n",
      "closing_values = np.array([quote[2] for quote in quotes])\n",
      "volume_of_shares = np.array([quote[5] for quote in quotes])[1:]\n",
      "\n",
      "# Take diff of closing values and computing rate of change\n",
      "diff_percentage = 100.0 * np.diff(closing_values) / closing_values[:-1]\n",
      "dates = dates[1:]\n",
      "\n",
      "# Stack the percentage diff and volume values column-wise for training\n",
      "X = np.column_stack([diff_percentage, volume_of_shares])\n",
      "\n",
      "# Create and train Gaussian HMM \n",
      "print(\"\\nTraining HMM....\")\n",
      "model = GaussianHMM(n_components=5, covariance_type=\"diag\", n_iter=1000)\n",
      "model.fit(X)\n",
      "\n",
      "# Generate data using model\n",
      "num_samples = 500 \n",
      "samples, _ = model.sample(num_samples) \n",
      "plt.plot(np.arange(num_samples), samples[:,0], c='black')\n",
      "\n",
      "plt.show()"
     ],
     "language": "python",
     "metadata": {},
     "outputs": []
    }
   ],
   "metadata": {}
  }
 ]
}
