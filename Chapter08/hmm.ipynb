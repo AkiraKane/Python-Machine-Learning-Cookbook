{
 "metadata": {},
 "nbformat": 3,
 "nbformat_minor": 0,
 "worksheets": [
  {
   "cells": [
    {
     "cell_type": "code",
     "collapsed": false,
     "input": [
      "import datetime\n",
      "\n",
      "import numpy as np\n",
      "import matplotlib.pyplot as plt\n",
      "from hmmlearn.hmm import GaussianHMM\n",
      "\n",
      "from convert_to_timeseries import convert_data_to_timeseries\n",
      "\n",
      "# Load data from input file\n",
      "input_file = 'data_hmm.txt'\n",
      "data = np.loadtxt(input_file, delimiter=',')\n",
      "\n",
      "# Arrange data for training \n",
      "X = np.column_stack([data[:,2]])\n",
      "\n",
      "# Create and train Gaussian HMM \n",
      "print(\"\\nTraining HMM....\")\n",
      "num_components = 4\n",
      "model = GaussianHMM(n_components=num_components, covariance_type=\"diag\", n_iter=1000)\n",
      "model.fit(X)\n",
      "\n",
      "# Predict the hidden states of HMM \n",
      "hidden_states = model.predict(X)\n",
      "\n",
      "print(\"\\nMeans and variances of hidden states:\")\n",
      "for i in range(model.n_components):\n",
      "    print(\"\\nHidden state\", i+1)\n",
      "    print(\"Mean =\", round(model.means_[i][0], 3))\n",
      "    print(\"Variance =\", round(np.diag(model.covars_[i])[0], 3))\n",
      "\n",
      "# Generate data using model\n",
      "num_samples = 1000\n",
      "samples, _ = model.sample(num_samples) \n",
      "plt.plot(np.arange(num_samples), samples[:,0], c='black')\n",
      "plt.title('Number of components = ' + str(num_components))\n",
      "\n",
      "plt.show()"
     ],
     "language": "python",
     "metadata": {},
     "outputs": []
    }
   ],
   "metadata": {}
  }
 ]
}
