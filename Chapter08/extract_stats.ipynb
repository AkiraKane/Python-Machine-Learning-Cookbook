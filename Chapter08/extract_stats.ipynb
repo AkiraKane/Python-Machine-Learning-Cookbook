{
 "metadata": {},
 "nbformat": 3,
 "nbformat_minor": 0,
 "worksheets": [
  {
   "cells": [
    {
     "cell_type": "code",
     "collapsed": false,
     "input": [
      "import numpy as np\n",
      "import pandas as pd\n",
      "import matplotlib.pyplot as plt\n",
      "\n",
      "from convert_to_timeseries import convert_data_to_timeseries\n",
      "\n",
      "# Input file containing data\n",
      "input_file = 'data_timeseries.txt'\n",
      "\n",
      "# Load data\n",
      "data1 = convert_data_to_timeseries(input_file, 2)\n",
      "data2 = convert_data_to_timeseries(input_file, 3)\n",
      "dataframe = pd.DataFrame({'first': data1, 'second': data2})\n",
      "\n",
      "# Print max and min\n",
      "print('\\nMaximum:\\n', dataframe.max())\n",
      "print('\\nMinimum:\\n', dataframe.min())\n",
      "\n",
      "# Print mean\n",
      "print('\\nMean:\\n', dataframe.mean())\n",
      "print('\\nMean row-wise:\\n', dataframe.mean(1)[:10])\n",
      "\n",
      "# Plot rolling mean\n",
      "pd.rolling_mean(dataframe, window=24).plot()\n",
      "\n",
      "# Print correlation coefficients\n",
      "print('\\nCorrelation coefficients:\\n', dataframe.corr())\n",
      "\n",
      "# Plot rolling correlation\n",
      "plt.figure()\n",
      "pd.rolling_corr(dataframe['first'], dataframe['second'], window=60).plot()\n",
      "\n",
      "plt.show()"
     ],
     "language": "python",
     "metadata": {},
     "outputs": []
    }
   ],
   "metadata": {}
  }
 ]
}
