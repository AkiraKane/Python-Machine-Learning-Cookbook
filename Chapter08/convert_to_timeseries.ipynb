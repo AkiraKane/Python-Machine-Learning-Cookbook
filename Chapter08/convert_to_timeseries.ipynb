{
 "metadata": {},
 "nbformat": 3,
 "nbformat_minor": 0,
 "worksheets": [
  {
   "cells": [
    {
     "cell_type": "code",
     "collapsed": false,
     "input": [
      "import numpy as np\n",
      "import pandas as pd\n",
      "import matplotlib.pyplot as plt\n",
      "\n",
      "def convert_data_to_timeseries(input_file, column, verbose=False):\n",
      "    # Load the input file\n",
      "    data = np.loadtxt(input_file, delimiter=',')\n",
      "\n",
      "    # Extract the start and end dates\n",
      "    start_date = str(int(data[0,0])) + '-' + str(int(data[0,1]))\n",
      "    end_date = str(int(data[-1,0] + 1)) + '-' + str(int(data[-1,1] % 12 + 1))\n",
      "\n",
      "    if verbose:\n",
      "        print(\"\\nStart date =\", start_date)\n",
      "        print(\"End date =\", end_date)\n",
      "\n",
      "    # Create a date sequence with monthly intervals\n",
      "    dates = pd.date_range(start_date, end_date, freq='M')\n",
      "\n",
      "    # Convert the data into time series data\n",
      "    data_timeseries = pd.Series(data[:,column], index=dates)\n",
      "\n",
      "    if verbose:\n",
      "        print(\"\\nTime series data:\\n\", data_timeseries[:10])\n",
      "\n",
      "    return data_timeseries\n",
      "\n",
      "if __name__=='__main__':\n",
      "    # Input file containing data\n",
      "    input_file = 'data_timeseries.txt'\n",
      "\n",
      "    # Load input data\n",
      "    column_num = 2\n",
      "    data_timeseries = convert_data_to_timeseries(input_file, column_num)\n",
      "\n",
      "    # Plot the time series data\n",
      "    data_timeseries.plot()\n",
      "    plt.title('Input data')\n",
      "\n",
      "    plt.show()"
     ],
     "language": "python",
     "metadata": {},
     "outputs": []
    }
   ],
   "metadata": {}
  }
 ]
}
