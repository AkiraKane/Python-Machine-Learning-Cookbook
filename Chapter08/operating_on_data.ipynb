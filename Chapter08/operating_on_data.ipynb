{
 "metadata": {},
 "nbformat": 3,
 "nbformat_minor": 0,
 "worksheets": [
  {
   "cells": [
    {
     "cell_type": "code",
     "collapsed": false,
     "input": [
      "import numpy as np\n",
      "import pandas as pd\n",
      "import matplotlib.pyplot as plt\n",
      "\n",
      "from convert_to_timeseries import convert_data_to_timeseries\n",
      "\n",
      "# Input file containing data\n",
      "input_file = 'data_timeseries.txt'\n",
      "\n",
      "# Load data\n",
      "data1 = convert_data_to_timeseries(input_file, 2)\n",
      "data2 = convert_data_to_timeseries(input_file, 3)\n",
      "dataframe = pd.DataFrame({'first': data1, 'second': data2})\n",
      "\n",
      "# Plot data\n",
      "dataframe['1952':'1955'].plot()\n",
      "plt.title('Data overlapped on top of each other')\n",
      "\n",
      "# Plot the difference\n",
      "plt.figure()\n",
      "difference = dataframe['1952':'1955']['first'] - dataframe['1952':'1955']['second']\n",
      "difference.plot()\n",
      "plt.title('Difference (first - second)')\n",
      "\n",
      "# When 'first' is greater than a certain threshold\n",
      "# and 'second' is smaller than a certain threshold\n",
      "dataframe[(dataframe['first'] > 60) & (dataframe['second'] < 20)].plot()\n",
      "plt.title('first > 60 and second < 20')\n",
      "\n",
      "plt.show()"
     ],
     "language": "python",
     "metadata": {},
     "outputs": []
    }
   ],
   "metadata": {}
  }
 ]
}
