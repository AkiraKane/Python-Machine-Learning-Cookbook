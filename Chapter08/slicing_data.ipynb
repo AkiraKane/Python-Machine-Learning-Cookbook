{
 "metadata": {},
 "nbformat": 3,
 "nbformat_minor": 0,
 "worksheets": [
  {
   "cells": [
    {
     "cell_type": "code",
     "collapsed": false,
     "input": [
      "import numpy as np\n",
      "import pandas as pd\n",
      "import matplotlib.pyplot as plt\n",
      "\n",
      "from convert_to_timeseries import convert_data_to_timeseries\n",
      "\n",
      "# Input file containing data\n",
      "input_file = 'data_timeseries.txt'\n",
      "\n",
      "# Load data\n",
      "column_num = 2\n",
      "data_timeseries = convert_data_to_timeseries(input_file, column_num)\n",
      "\n",
      "# Plot within a certain year range\n",
      "start = '2008'\n",
      "end = '2015'\n",
      "plt.figure()\n",
      "data_timeseries[start:end].plot()\n",
      "plt.title('Data from ' + start + ' to ' + end)\n",
      "\n",
      "# Plot within a certain range of dates\n",
      "start = '2007-2'\n",
      "end = '2007-11'\n",
      "plt.figure()\n",
      "data_timeseries[start:end].plot()\n",
      "plt.title('Data from ' + start + ' to ' + end)\n",
      "\n",
      "plt.show()"
     ],
     "language": "python",
     "metadata": {},
     "outputs": []
    }
   ],
   "metadata": {}
  }
 ]
}
