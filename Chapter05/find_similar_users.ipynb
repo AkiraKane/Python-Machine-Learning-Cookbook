{
 "metadata": {},
 "nbformat": 3,
 "nbformat_minor": 0,
 "worksheets": [
  {
   "cells": [
    {
     "cell_type": "code",
     "collapsed": false,
     "input": [
      "import json\n",
      "import numpy as np\n",
      "\n",
      "from pearson_score import pearson_score\n",
      "\n",
      "# Finds a specified number of users who are similar to the input user\n",
      "def find_similar_users(dataset, user, num_users):\n",
      "    if user not in dataset:\n",
      "        raise TypeError('User ' + user + ' not present in the dataset')\n",
      "\n",
      "    # Compute Pearson scores for all the users\n",
      "    scores = np.array([[x, pearson_score(dataset, user, x)] for x in dataset if user != x])\n",
      "\n",
      "    # Sort the scores based on second column\n",
      "    scores_sorted = np.argsort(scores[:, 1])\n",
      "\n",
      "    # Sort the scores in decreasing order (highest score first) \n",
      "    scored_sorted_dec = scores_sorted[::-1]\n",
      "\n",
      "    # Extract top 'k' indices\n",
      "    top_k = scored_sorted_dec[0:num_users] \n",
      "\n",
      "    return scores[top_k] \n",
      "\n",
      "if __name__=='__main__':\n",
      "    data_file = 'movie_ratings.json'\n",
      "\n",
      "    with open(data_file, 'r') as f:\n",
      "        data = json.loads(f.read())\n",
      "\n",
      "    user = 'John Carson'\n",
      "    print(\"\\nUsers similar to \" + user + \":\\n\")\n",
      "    similar_users = find_similar_users(data, user, 3) \n",
      "    print(\"User\\t\\t\\tSimilarity score\\n\")\n",
      "    for item in similar_users:\n",
      "        print(item[0], '\\t\\t', round(float(item[1]), 2))"
     ],
     "language": "python",
     "metadata": {},
     "outputs": []
    }
   ],
   "metadata": {}
  }
 ]
}
