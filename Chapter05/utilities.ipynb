{
 "metadata": {},
 "nbformat": 3,
 "nbformat_minor": 0,
 "worksheets": [
  {
   "cells": [
    {
     "cell_type": "code",
     "collapsed": false,
     "input": [
      "import numpy as np\n",
      "import matplotlib.pyplot as plt\n",
      "from sklearn import cross_validation\n",
      "\n",
      "# Load multivar data in the input file\n",
      "def load_data(input_file):\n",
      "    X = []\n",
      "    with open(input_file, 'r') as f:\n",
      "        for line in f.readlines():\n",
      "            data = [float(x) for x in line.split(',')]\n",
      "            X.append(data)\n",
      "\n",
      "    return np.array(X)"
     ],
     "language": "python",
     "metadata": {},
     "outputs": []
    }
   ],
   "metadata": {}
  }
 ]
}
