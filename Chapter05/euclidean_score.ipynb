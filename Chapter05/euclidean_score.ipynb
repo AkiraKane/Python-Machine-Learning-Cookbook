{
 "metadata": {},
 "nbformat": 3,
 "nbformat_minor": 0,
 "worksheets": [
  {
   "cells": [
    {
     "cell_type": "code",
     "collapsed": false,
     "input": [
      "import json\n",
      "import numpy as np\n",
      " \n",
      "# Returns the Euclidean distance score between user1 and user2 \n",
      "def euclidean_score(dataset, user1, user2):\n",
      "    if user1 not in dataset:\n",
      "        raise TypeError('User ' + user1 + ' not present in the dataset')\n",
      "\n",
      "    if user2 not in dataset:\n",
      "        raise TypeError('User ' + user2 + ' not present in the dataset')\n",
      "\n",
      "    # Movies rated by both user1 and user2\n",
      "    rated_by_both = {} \n",
      "\n",
      "    for item in dataset[user1]:\n",
      "        if item in dataset[user2]:\n",
      "            rated_by_both[item] = 1\n",
      "\n",
      "    # If there are no common movies, the score is 0 \n",
      "    if len(rated_by_both) == 0:\n",
      "        return 0\n",
      "\n",
      "    squared_differences = [] \n",
      "\n",
      "    for item in dataset[user1]:\n",
      "        if item in dataset[user2]:\n",
      "            squared_differences.append(np.square(dataset[user1][item] - dataset[user2][item]))\n",
      "        \n",
      "    return 1 / (1 + np.sqrt(np.sum(squared_differences))) \n",
      "\n",
      "if __name__=='__main__':\n",
      "    data_file = 'movie_ratings.json'\n",
      "\n",
      "    with open(data_file, 'r') as f:\n",
      "        data = json.loads(f.read())\n",
      "\n",
      "    user1 = 'John Carson'\n",
      "    user2 = 'Michelle Peterson'\n",
      "\n",
      "    print(\"\\nEuclidean score:\")\n",
      "    print(euclidean_score(data, user1, user2)) "
     ],
     "language": "python",
     "metadata": {},
     "outputs": []
    }
   ],
   "metadata": {}
  }
 ]
}
