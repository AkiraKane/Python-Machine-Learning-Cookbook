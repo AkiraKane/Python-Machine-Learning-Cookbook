{
 "metadata": {},
 "nbformat": 3,
 "nbformat_minor": 0,
 "worksheets": [
  {
   "cells": [
    {
     "cell_type": "code",
     "collapsed": false,
     "input": [
      "import numpy as np\n",
      "import matplotlib.pyplot as plt\n",
      "from sklearn.neighbors import NearestNeighbors\n",
      "\n",
      "# Input data\n",
      "X = np.array([[1, 1], [1, 3], [2, 2], [2.5, 5], [3, 1], \n",
      "        [4, 2], [2, 3.5], [3, 3], [3.5, 4]])\n",
      "\n",
      "# Number of neighbors we want to find\n",
      "num_neighbors = 3\n",
      "\n",
      "# Input point\n",
      "input_point = [2.6, 1.7]\n",
      "\n",
      "# Plot datapoints\n",
      "plt.figure()\n",
      "plt.scatter(X[:,0], X[:,1], marker='o', s=25, color='k')\n",
      "\n",
      "# Build nearest neighbors model\n",
      "knn = NearestNeighbors(n_neighbors=num_neighbors, algorithm='ball_tree').fit(X)\n",
      "distances, indices = knn.kneighbors(input_point)\n",
      "\n",
      "# Print the 'k' nearest neighbors\n",
      "print(\"\\nk nearest neighbors\")\n",
      "for rank, index in enumerate(indices[0][:num_neighbors]):\n",
      "    print(str(rank+1) + \" -->\", X[index])\n",
      "\n",
      "# Plot the nearest neighbors \n",
      "plt.figure()\n",
      "plt.scatter(X[:,0], X[:,1], marker='o', s=25, color='k')\n",
      "plt.scatter(X[indices][0][:][:,0], X[indices][0][:][:,1], \n",
      "        marker='o', s=150, color='k', facecolors='none')\n",
      "plt.scatter(input_point[0], input_point[1],\n",
      "        marker='x', s=150, color='k', facecolors='none')\n",
      "\n",
      "plt.show()"
     ],
     "language": "python",
     "metadata": {},
     "outputs": []
    }
   ],
   "metadata": {}
  }
 ]
}
