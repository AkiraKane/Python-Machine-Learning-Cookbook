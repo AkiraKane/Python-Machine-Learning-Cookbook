{
 "metadata": {},
 "nbformat": 3,
 "nbformat_minor": 0,
 "worksheets": [
  {
   "cells": [
    {
     "cell_type": "code",
     "collapsed": false,
     "input": [
      "from sklearn.datasets import samples_generator\n",
      "from sklearn.ensemble import RandomForestClassifier\n",
      "from sklearn.feature_selection import SelectKBest, f_regression\n",
      "from sklearn.pipeline import Pipeline\n",
      "\n",
      "# generate sample data\n",
      "X, y = samples_generator.make_classification(\n",
      "        n_informative=4, n_features=20, n_redundant=0, random_state=5)\n",
      "\n",
      "# Feature selector \n",
      "selector_k_best = SelectKBest(f_regression, k=10)\n",
      "\n",
      "# Random forest classifier\n",
      "classifier = RandomForestClassifier(n_estimators=50, max_depth=4)\n",
      "\n",
      "# Build the machine learning pipeline\n",
      "pipeline_classifier = Pipeline([('selector', selector_k_best), ('rf', classifier)])\n",
      "\n",
      "# We can set the parameters using the names we assigned\n",
      "# earlier. For example, if we want to set 'k' to 6 in the\n",
      "# feature selector and set 'n_estimators' in the Random \n",
      "# Forest Classifier to 25, we can do it as shown below\n",
      "pipeline_classifier.set_params(selector__k=6, \n",
      "        rf__n_estimators=25)\n",
      "\n",
      "# Training the classifier\n",
      "pipeline_classifier.fit(X, y)\n",
      "\n",
      "# Predict the output\n",
      "prediction = pipeline_classifier.predict(X)\n",
      "print(\"\\nPredictions:\\n\", prediction)\n",
      "\n",
      "# Print score\n",
      "print(\"\\nScore:\", pipeline_classifier.score(X, y))                        \n",
      "\n",
      "# Print the selected features chosen by the selector\n",
      "features_status = pipeline_classifier.named_steps['selector'].get_support()\n",
      "selected_features = []\n",
      "for count, item in enumerate(features_status):\n",
      "    if item:\n",
      "        selected_features.append(count)\n",
      "\n",
      "print(\"\\nSelected features (0-indexed):\", ', '.join([str(x) for x in selected_features]))"
     ],
     "language": "python",
     "metadata": {},
     "outputs": []
    }
   ],
   "metadata": {}
  }
 ]
}
