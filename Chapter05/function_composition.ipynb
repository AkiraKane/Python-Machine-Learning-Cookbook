{
 "metadata": {},
 "nbformat": 3,
 "nbformat_minor": 0,
 "worksheets": [
  {
   "cells": [
    {
     "cell_type": "code",
     "collapsed": false,
     "input": [
      "import numpy as np\n",
      "from functools import reduce\n",
      "\n",
      "def add3(input_array):\n",
      "    return [x+3 for x in input_array]\n",
      "\n",
      "def mul2(input_array):\n",
      "    return [x*2 for x in input_array]\n",
      "\n",
      "def sub5(input_array):\n",
      "    return [x-5 for x in input_array]\n",
      "\n",
      "def function_composer(*args):\n",
      "    return reduce(lambda f, g: lambda x: f(g(x)), args)\n",
      "\n",
      "if __name__=='__main__':\n",
      "    arr = np.array([2,5,4,7])\n",
      "\n",
      "    print(\"\\nOperation: add3(mul2(sub5(arr)))\")\n",
      "    \n",
      "    arr1 = add3(arr)\n",
      "    arr2 = mul2(arr1)\n",
      "    arr3 = sub5(arr2)\n",
      "    print(\"Output using the lengthy way:\", arr3)\n",
      "\n",
      "    func_composed = function_composer(sub5, mul2, add3)\n",
      "    print(\"Output using function composition:\", func_composed(arr)) \n",
      "\n",
      "    print(\"\\nOperation: sub5(add3(mul2(sub5(mul2(arr)))))\\nOutput:\", \\\n",
      "            function_composer(mul2, sub5, mul2, add3, sub5)(arr))"
     ],
     "language": "python",
     "metadata": {},
     "outputs": []
    }
   ],
   "metadata": {}
  }
 ]
}
